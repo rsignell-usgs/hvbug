{
 "cells": [
  {
   "cell_type": "code",
   "execution_count": null,
   "id": "82d4c713-e3a4-4c0a-95b8-48a39094da7f",
   "metadata": {},
   "outputs": [],
   "source": [
    "import xarray as xr\n",
    "import hvplot.xarray"
   ]
  },
  {
   "cell_type": "code",
   "execution_count": null,
   "id": "d7527d56-c898-45f4-9384-801c8a4a610f",
   "metadata": {},
   "outputs": [],
   "source": [
    "ds = xr.tutorial.open_dataset(\"air_temperature\").isel(time=0)"
   ]
  },
  {
   "cell_type": "code",
   "execution_count": null,
   "id": "5f3dffb1-4bb7-4b0e-845b-3b08b78dd3c2",
   "metadata": {},
   "outputs": [],
   "source": [
    "ds.air.hvplot.quadmesh(x='lon', y='lat', rasterize=True)"
   ]
  },
  {
   "cell_type": "code",
   "execution_count": null,
   "id": "eb1cd115-be77-49f2-8ab1-67201251d333",
   "metadata": {},
   "outputs": [],
   "source": []
  }
 ],
 "metadata": {
  "kernelspec": {
   "display_name": "Python [conda env:test]",
   "language": "python",
   "name": "conda-env-test-py"
  },
  "language_info": {
   "codemirror_mode": {
    "name": "ipython",
    "version": 3
   },
   "file_extension": ".py",
   "mimetype": "text/x-python",
   "name": "python",
   "nbconvert_exporter": "python",
   "pygments_lexer": "ipython3",
   "version": "3.10.2"
  }
 },
 "nbformat": 4,
 "nbformat_minor": 5
}
